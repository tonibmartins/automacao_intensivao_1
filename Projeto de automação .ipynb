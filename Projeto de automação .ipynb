{
 "cells": [
  {
   "cell_type": "code",
   "execution_count": 6,
   "id": "16e7589a",
   "metadata": {},
   "outputs": [],
   "source": [
    "import pyautogui\n",
    "import time\n",
    "\n",
    "pyautogui.PAUSE = 2\n",
    "\n",
    "# Abrir nova aba e acessar o site do Youtube\n",
    "\n",
    "pyautogui.hotkey(\"ctrl\", \"t\")\n",
    "pyautogui.write(\"https://www.youtube.com/\")\n",
    "pyautogui.press(\"enter\")\n",
    "\n",
    "# Clicar no botão de pesquisa\n",
    "pyautogui.click(x=832, y=91)\n",
    "\n",
    "pyautogui.write(\"Careless Whisper\")\n",
    "\n",
    "pyautogui.press(\"enter\")\n",
    "\n",
    "# Clicar no Vídeo\n",
    "pyautogui.click(x=677, y=258)"
   ]
  },
  {
   "cell_type": "code",
   "execution_count": null,
   "id": "07215b0a",
   "metadata": {},
   "outputs": [],
   "source": []
  },
  {
   "cell_type": "markdown",
   "id": "22cde842",
   "metadata": {},
   "source": []
  },
  {
   "cell_type": "code",
   "execution_count": null,
   "id": "7df57af4",
   "metadata": {},
   "outputs": [],
   "source": []
  },
  {
   "cell_type": "markdown",
   "id": "4500b746",
   "metadata": {},
   "source": []
  },
  {
   "cell_type": "markdown",
   "id": "e308ae86",
   "metadata": {},
   "source": []
  },
  {
   "cell_type": "markdown",
   "id": "26d40d7f",
   "metadata": {},
   "source": [
    "!pip install pyautogui"
   ]
  },
  {
   "cell_type": "code",
   "execution_count": 4,
   "id": "0d15c765",
   "metadata": {},
   "outputs": [
    {
     "name": "stdout",
     "output_type": "stream",
     "text": [
      "Point(x=677, y=258)\n"
     ]
    }
   ],
   "source": [
    "time.sleep(5)\n",
    "print(pyautogui.position())"
   ]
  },
  {
   "cell_type": "code",
   "execution_count": null,
   "id": "e2316237",
   "metadata": {},
   "outputs": [],
   "source": []
  }
 ],
 "metadata": {
  "kernelspec": {
   "display_name": "Python 3 (ipykernel)",
   "language": "python",
   "name": "python3"
  },
  "language_info": {
   "codemirror_mode": {
    "name": "ipython",
    "version": 3
   },
   "file_extension": ".py",
   "mimetype": "text/x-python",
   "name": "python",
   "nbconvert_exporter": "python",
   "pygments_lexer": "ipython3",
   "version": "3.10.9"
  }
 },
 "nbformat": 4,
 "nbformat_minor": 5
}
